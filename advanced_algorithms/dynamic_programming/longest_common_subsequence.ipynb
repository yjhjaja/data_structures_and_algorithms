{
 "cells": [
  {
   "cell_type": "markdown",
   "metadata": {
    "graffitiCellId": "id_8xyfjdj"
   },
   "source": [
    "# Longest Common Subsequence\n",
    "\n",
    "In text analysis,  it is often useful to compare the similarity of two texts (imagine if you were trying to determine plagiarism between a source and answer text). In this notebook, we'll explore one measure of text similarity, the **Longest Common Subsequence** (LCS).\n",
    "\n",
    "> The Longest Common Subsequence is the longest sequence of letters that are *present* in both the given two strings in the same relative order.\n",
    "\n",
    "**Example** - Consider the two input strings, `str1 = 'ABCD'` and `str2 = 'AXBXDX'`. The LCS will be `'ABD'` with the length as **3 letters**. It is because each of the letters `'A'` , `'B'`, and `'D'` are *present* in both the given two strings in the same relative order. Note that:\n",
    "* An LCS need not necessarily be a contiguous substring. \n",
    "* There can be more than one LCS present in the given two strings. \n",
    "* There can be many more common subsequences present here, with smaller length. But, in this problem we are concerned with the **longest** common subsequence. \n"
   ]
  },
  {
   "cell_type": "markdown",
   "metadata": {
    "graffitiCellId": "id_jy58x05"
   },
   "source": [
    "## Calculate the length of longest common subsequence\n",
    "\n",
    "Implement the function `lcs`; this should calculate the length of *longest common subsequence* of characters between two strings. "
   ]
  },
  {
   "cell_type": "code",
   "execution_count": 1,
   "metadata": {
    "graffitiCellId": "id_75ixet4"
   },
   "outputs": [],
   "source": [
    "def lcs(string_a, string_b):\n",
    "    dp = [[0 for i in range(len(string_b) + 1)] for j in range(len(string_a) + 1)]\n",
    "    for     i in range(len(string_a) - 1, -1, -1):\n",
    "        for j in range(len(string_b) - 1, -1, -1):\n",
    "            if string_a[i] == string_b[j]:\n",
    "                dp[i][j] = dp[i + 1][j + 1] + 1\n",
    "            else:\n",
    "                dp[i][j] = max(dp[i + 1][j], dp[i][j + 1])\n",
    "    return dp[0][0]"
   ]
  },
  {
   "cell_type": "markdown",
   "metadata": {
    "graffitiCellId": "id_06z3b24"
   },
   "source": [
    "Test your function on a few test strings by running the cell, below."
   ]
  },
  {
   "cell_type": "code",
   "execution_count": 2,
   "metadata": {
    "graffitiCellId": "id_lnwt8zg"
   },
   "outputs": [
    {
     "name": "stdout",
     "output_type": "stream",
     "text": [
      "LCS val 1 =  5\n",
      "LCS val 2 =  7\n",
      "Tests passed!\n"
     ]
    }
   ],
   "source": [
    "## Test cell\n",
    "\n",
    "# Run this cell to see how your function is working\n",
    "test_A1 = \"WHOWEEKLY\"\n",
    "test_B1 = \"HOWONLY\"\n",
    "\n",
    "lcs_val1 = lcs(test_A1, test_B1)\n",
    "\n",
    "test_A2 = \"CATSINSPACETWO\"\n",
    "test_B2 = \"DOGSPACEWHO\"\n",
    "\n",
    "lcs_val2 = lcs(test_A2, test_B2)\n",
    "\n",
    "print('LCS val 1 = ', lcs_val1)\n",
    "assert lcs_val1==5, \"Incorrect LCS value.\"\n",
    "print('LCS val 2 = ', lcs_val2)\n",
    "assert lcs_val2==7, \"Incorrect LCS value.\"\n",
    "print('Tests passed!')"
   ]
  },
  {
   "cell_type": "markdown",
   "metadata": {
    "collapsed": true,
    "graffitiCellId": "id_u99tux1"
   },
   "source": [
    "## Time Complexity\n",
    "\n",
    "What is the time complexity of the above implementation?"
   ]
  },
  {
   "cell_type": "code",
   "execution_count": 3,
   "metadata": {
    "graffitiCellId": "id_kxwtio3"
   },
   "outputs": [
    {
     "data": {
      "text/plain": [
       "'\\nThe time complexity of the above implementation is dominated by the two nested loops, \\nLet the length of string_a and string_b is `n` and `m` respectively. \\nThis would lead to a time complexity of O(n*m). \\nBut, in general, we can consider it as O(n*n) instead of O(n*m).\\n'"
      ]
     },
     "execution_count": 3,
     "metadata": {},
     "output_type": "execute_result"
    }
   ],
   "source": [
    "'''\n",
    "The time complexity of the above implementation is dominated by the two nested loops, \n",
    "Let the length of string_a and string_b is `n` and `m` respectively. \n",
    "This would lead to a time complexity of O(n*m). \n",
    "But, in general, we can consider it as O(n*n) instead of O(n*m).\n",
    "'''"
   ]
  }
 ],
 "metadata": {
  "graffiti": {
   "firstAuthorId": "dev",
   "id": "id_gm2dsgo",
   "language": "EN"
  },
  "kernelspec": {
   "display_name": "Python 3 (ipykernel)",
   "language": "python",
   "name": "python3"
  },
  "language_info": {
   "codemirror_mode": {
    "name": "ipython",
    "version": 3
   },
   "file_extension": ".py",
   "mimetype": "text/x-python",
   "name": "python",
   "nbconvert_exporter": "python",
   "pygments_lexer": "ipython3",
   "version": "3.10.9"
  }
 },
 "nbformat": 4,
 "nbformat_minor": 2
}
